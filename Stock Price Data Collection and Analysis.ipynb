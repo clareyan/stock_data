{
 "cells": [
  {
   "cell_type": "code",
   "execution_count": 43,
   "metadata": {},
   "outputs": [],
   "source": [
    "#!pip install pandas_datareader\n",
    "#from pandas_datareader import data"
   ]
  },
  {
   "cell_type": "code",
   "execution_count": 16,
   "metadata": {},
   "outputs": [
    {
     "name": "stdout",
     "output_type": "stream",
     "text": [
      "[*********************100%***********************]  1 of 1 completed\n"
     ]
    }
   ],
   "source": [
    "#pip install yfinance as yf https://pypi.org/project/yfinance/"
   ]
  },
  {
   "cell_type": "code",
   "execution_count": 77,
   "metadata": {},
   "outputs": [
    {
     "name": "stdout",
     "output_type": "stream",
     "text": [
      "[*********************100%***********************]  1 of 1 completed\n"
     ]
    }
   ],
   "source": [
    "import yfinance as yf\n",
    "data = yf.download(\"fb\", start='2020-06-01',end =\"2020-07-01\")"
   ]
  },
  {
   "cell_type": "markdown",
   "metadata": {},
   "source": [
    "**Datetime Library**\n",
    "\n",
    "The datetime module supplies functions and classes for working with date and time parsing, formatting and manipulation."
   ]
  },
  {
   "cell_type": "code",
   "execution_count": 79,
   "metadata": {},
   "outputs": [],
   "source": [
    "from datetime import datetime"
   ]
  },
  {
   "cell_type": "code",
   "execution_count": 80,
   "metadata": {},
   "outputs": [],
   "source": [
    "# .now() method returns us with the exact current time (although in GMT+0)\n",
    "\n",
    "now = datetime.now()"
   ]
  },
  {
   "cell_type": "code",
   "execution_count": 81,
   "metadata": {},
   "outputs": [
    {
     "data": {
      "text/plain": [
       "datetime.datetime(2021, 7, 3, 0, 8, 5, 583463)"
      ]
     },
     "execution_count": 81,
     "metadata": {},
     "output_type": "execute_result"
    }
   ],
   "source": [
    "datetime.now()"
   ]
  },
  {
   "cell_type": "code",
   "execution_count": 82,
   "metadata": {},
   "outputs": [
    {
     "data": {
      "text/plain": [
       "int"
      ]
     },
     "execution_count": 82,
     "metadata": {},
     "output_type": "execute_result"
    }
   ],
   "source": [
    "type(now.year)"
   ]
  },
  {
   "cell_type": "code",
   "execution_count": 83,
   "metadata": {},
   "outputs": [
    {
     "data": {
      "text/plain": [
       "7"
      ]
     },
     "execution_count": 83,
     "metadata": {},
     "output_type": "execute_result"
    }
   ],
   "source": [
    "now.month"
   ]
  },
  {
   "cell_type": "code",
   "execution_count": 84,
   "metadata": {},
   "outputs": [
    {
     "data": {
      "text/plain": [
       "3"
      ]
     },
     "execution_count": 84,
     "metadata": {},
     "output_type": "execute_result"
    }
   ],
   "source": [
    "now.day"
   ]
  },
  {
   "cell_type": "code",
   "execution_count": 85,
   "metadata": {},
   "outputs": [],
   "source": [
    "today_day = datetime(2021, 5, 1, 12, 20, 20)\n",
    "\n",
    "# 1 May"
   ]
  },
  {
   "cell_type": "code",
   "execution_count": 86,
   "metadata": {},
   "outputs": [
    {
     "data": {
      "text/plain": [
       "datetime.datetime"
      ]
     },
     "execution_count": 86,
     "metadata": {},
     "output_type": "execute_result"
    }
   ],
   "source": [
    "type(today_day)"
   ]
  },
  {
   "cell_type": "code",
   "execution_count": 87,
   "metadata": {},
   "outputs": [
    {
     "data": {
      "text/plain": [
       "2021"
      ]
     },
     "execution_count": 87,
     "metadata": {},
     "output_type": "execute_result"
    }
   ],
   "source": [
    "today_day.year"
   ]
  },
  {
   "cell_type": "code",
   "execution_count": 88,
   "metadata": {},
   "outputs": [],
   "source": [
    "# To make our data start one year in the past, up until today.\n",
    "\n",
    "start = datetime(now.year-1, now.month, now.day, now.hour)"
   ]
  },
  {
   "cell_type": "code",
   "execution_count": 89,
   "metadata": {},
   "outputs": [
    {
     "data": {
      "text/plain": [
       "datetime.datetime(2020, 7, 3, 0, 0)"
      ]
     },
     "execution_count": 89,
     "metadata": {},
     "output_type": "execute_result"
    }
   ],
   "source": [
    "start"
   ]
  },
  {
   "cell_type": "code",
   "execution_count": 90,
   "metadata": {},
   "outputs": [
    {
     "name": "stdout",
     "output_type": "stream",
     "text": [
      "[*********************100%***********************]  1 of 1 completed\n"
     ]
    }
   ],
   "source": [
    "fb = yf.download(\"fb\", start, now)"
   ]
  },
  {
   "cell_type": "code",
   "execution_count": 91,
   "metadata": {},
   "outputs": [
    {
     "data": {
      "text/html": [
       "<div>\n",
       "<style scoped>\n",
       "    .dataframe tbody tr th:only-of-type {\n",
       "        vertical-align: middle;\n",
       "    }\n",
       "\n",
       "    .dataframe tbody tr th {\n",
       "        vertical-align: top;\n",
       "    }\n",
       "\n",
       "    .dataframe thead th {\n",
       "        text-align: right;\n",
       "    }\n",
       "</style>\n",
       "<table border=\"1\" class=\"dataframe\">\n",
       "  <thead>\n",
       "    <tr style=\"text-align: right;\">\n",
       "      <th></th>\n",
       "      <th>Open</th>\n",
       "      <th>High</th>\n",
       "      <th>Low</th>\n",
       "      <th>Close</th>\n",
       "      <th>Adj Close</th>\n",
       "      <th>Volume</th>\n",
       "    </tr>\n",
       "    <tr>\n",
       "      <th>Date</th>\n",
       "      <th></th>\n",
       "      <th></th>\n",
       "      <th></th>\n",
       "      <th></th>\n",
       "      <th></th>\n",
       "      <th></th>\n",
       "    </tr>\n",
       "  </thead>\n",
       "  <tbody>\n",
       "    <tr>\n",
       "      <th>2020-07-02</th>\n",
       "      <td>239.000000</td>\n",
       "      <td>240.000000</td>\n",
       "      <td>232.610001</td>\n",
       "      <td>233.419998</td>\n",
       "      <td>233.419998</td>\n",
       "      <td>30633600</td>\n",
       "    </tr>\n",
       "    <tr>\n",
       "      <th>2020-07-06</th>\n",
       "      <td>233.759995</td>\n",
       "      <td>240.399994</td>\n",
       "      <td>232.270004</td>\n",
       "      <td>240.279999</td>\n",
       "      <td>240.279999</td>\n",
       "      <td>26206200</td>\n",
       "    </tr>\n",
       "    <tr>\n",
       "      <th>2020-07-07</th>\n",
       "      <td>239.410004</td>\n",
       "      <td>247.649994</td>\n",
       "      <td>238.820007</td>\n",
       "      <td>240.860001</td>\n",
       "      <td>240.860001</td>\n",
       "      <td>27887800</td>\n",
       "    </tr>\n",
       "    <tr>\n",
       "      <th>2020-07-08</th>\n",
       "      <td>238.110001</td>\n",
       "      <td>246.990005</td>\n",
       "      <td>236.589996</td>\n",
       "      <td>243.580002</td>\n",
       "      <td>243.580002</td>\n",
       "      <td>29791300</td>\n",
       "    </tr>\n",
       "    <tr>\n",
       "      <th>2020-07-09</th>\n",
       "      <td>245.000000</td>\n",
       "      <td>246.529999</td>\n",
       "      <td>239.240005</td>\n",
       "      <td>244.500000</td>\n",
       "      <td>244.500000</td>\n",
       "      <td>22174900</td>\n",
       "    </tr>\n",
       "    <tr>\n",
       "      <th>...</th>\n",
       "      <td>...</td>\n",
       "      <td>...</td>\n",
       "      <td>...</td>\n",
       "      <td>...</td>\n",
       "      <td>...</td>\n",
       "      <td>...</td>\n",
       "    </tr>\n",
       "    <tr>\n",
       "      <th>2021-06-28</th>\n",
       "      <td>342.459991</td>\n",
       "      <td>358.140015</td>\n",
       "      <td>341.769989</td>\n",
       "      <td>355.640015</td>\n",
       "      <td>355.640015</td>\n",
       "      <td>29156100</td>\n",
       "    </tr>\n",
       "    <tr>\n",
       "      <th>2021-06-29</th>\n",
       "      <td>356.269989</td>\n",
       "      <td>356.739990</td>\n",
       "      <td>349.049988</td>\n",
       "      <td>351.890015</td>\n",
       "      <td>351.890015</td>\n",
       "      <td>21417300</td>\n",
       "    </tr>\n",
       "    <tr>\n",
       "      <th>2021-06-30</th>\n",
       "      <td>352.170013</td>\n",
       "      <td>352.920013</td>\n",
       "      <td>347.170013</td>\n",
       "      <td>347.709991</td>\n",
       "      <td>347.709991</td>\n",
       "      <td>15107500</td>\n",
       "    </tr>\n",
       "    <tr>\n",
       "      <th>2021-07-01</th>\n",
       "      <td>346.820007</td>\n",
       "      <td>354.670013</td>\n",
       "      <td>346.500000</td>\n",
       "      <td>354.390015</td>\n",
       "      <td>354.390015</td>\n",
       "      <td>17124000</td>\n",
       "    </tr>\n",
       "    <tr>\n",
       "      <th>2021-07-02</th>\n",
       "      <td>355.100006</td>\n",
       "      <td>356.440002</td>\n",
       "      <td>352.619995</td>\n",
       "      <td>353.654999</td>\n",
       "      <td>353.654999</td>\n",
       "      <td>5938422</td>\n",
       "    </tr>\n",
       "  </tbody>\n",
       "</table>\n",
       "<p>253 rows × 6 columns</p>\n",
       "</div>"
      ],
      "text/plain": [
       "                  Open        High         Low       Close   Adj Close  \\\n",
       "Date                                                                     \n",
       "2020-07-02  239.000000  240.000000  232.610001  233.419998  233.419998   \n",
       "2020-07-06  233.759995  240.399994  232.270004  240.279999  240.279999   \n",
       "2020-07-07  239.410004  247.649994  238.820007  240.860001  240.860001   \n",
       "2020-07-08  238.110001  246.990005  236.589996  243.580002  243.580002   \n",
       "2020-07-09  245.000000  246.529999  239.240005  244.500000  244.500000   \n",
       "...                ...         ...         ...         ...         ...   \n",
       "2021-06-28  342.459991  358.140015  341.769989  355.640015  355.640015   \n",
       "2021-06-29  356.269989  356.739990  349.049988  351.890015  351.890015   \n",
       "2021-06-30  352.170013  352.920013  347.170013  347.709991  347.709991   \n",
       "2021-07-01  346.820007  354.670013  346.500000  354.390015  354.390015   \n",
       "2021-07-02  355.100006  356.440002  352.619995  353.654999  353.654999   \n",
       "\n",
       "              Volume  \n",
       "Date                  \n",
       "2020-07-02  30633600  \n",
       "2020-07-06  26206200  \n",
       "2020-07-07  27887800  \n",
       "2020-07-08  29791300  \n",
       "2020-07-09  22174900  \n",
       "...              ...  \n",
       "2021-06-28  29156100  \n",
       "2021-06-29  21417300  \n",
       "2021-06-30  15107500  \n",
       "2021-07-01  17124000  \n",
       "2021-07-02   5938422  \n",
       "\n",
       "[253 rows x 6 columns]"
      ]
     },
     "execution_count": 91,
     "metadata": {},
     "output_type": "execute_result"
    }
   ],
   "source": [
    "fb"
   ]
  },
  {
   "cell_type": "code",
   "execution_count": 92,
   "metadata": {},
   "outputs": [
    {
     "data": {
      "text/plain": [
       "Date\n",
       "2020-07-02    233.419998\n",
       "2020-07-06    240.279999\n",
       "2020-07-07    240.860001\n",
       "2020-07-08    243.580002\n",
       "2020-07-09    244.500000\n",
       "                 ...    \n",
       "2021-06-28    355.640015\n",
       "2021-06-29    351.890015\n",
       "2021-06-30    347.709991\n",
       "2021-07-01    354.390015\n",
       "2021-07-02    353.654999\n",
       "Name: Close, Length: 253, dtype: float64"
      ]
     },
     "execution_count": 92,
     "metadata": {},
     "output_type": "execute_result"
    }
   ],
   "source": [
    "fb[\"Close\"]"
   ]
  },
  {
   "cell_type": "code",
   "execution_count": 93,
   "metadata": {},
   "outputs": [
    {
     "data": {
      "text/plain": [
       "<AxesSubplot:xlabel='Date'>"
      ]
     },
     "execution_count": 93,
     "metadata": {},
     "output_type": "execute_result"
    },
    {
     "data": {
      "image/png": "[encoded data removed]",
      "text/plain": [
       "<Figure size 432x288 with 1 Axes>"
      ]
     },
     "metadata": {
      "needs_background": "light"
     },
     "output_type": "display_data"
    }
   ],
   "source": [
    "fb[\"Close\"].plot()\n",
    "\n",
    "# Matplotlib --> Basic Data Visualization Library in Python"
   ]
  },
  {
   "cell_type": "code",
   "execution_count": 94,
   "metadata": {},
   "outputs": [],
   "source": [
    "import matplotlib.pyplot as plt"
   ]
  },
  {
   "cell_type": "code",
   "execution_count": 95,
   "metadata": {},
   "outputs": [
    {
     "data": {
      "image/png": "[encoded data removed]",
      "text/plain": [
       "<Figure size 1152x576 with 1 Axes>"
      ]
     },
     "metadata": {
      "needs_background": "light"
     },
     "output_type": "display_data"
    }
   ],
   "source": [
    "plt.figure(figsize=(16,8)) #height,width\n",
    "fb[\"Close\"].plot()\n",
    "plt.xlabel(\"Date\")\n",
    "plt.ylabel(\"USD\")\n",
    "plt.title(\"FB Stock Price\")\n",
    "plt.savefig(\"pic.png\")"
   ]
  },
  {
   "cell_type": "code",
   "execution_count": 96,
   "metadata": {},
   "outputs": [
    {
     "data": {
      "text/html": [
       "<div>\n",
       "<style scoped>\n",
       "    .dataframe tbody tr th:only-of-type {\n",
       "        vertical-align: middle;\n",
       "    }\n",
       "\n",
       "    .dataframe tbody tr th {\n",
       "        vertical-align: top;\n",
       "    }\n",
       "\n",
       "    .dataframe thead th {\n",
       "        text-align: right;\n",
       "    }\n",
       "</style>\n",
       "<table border=\"1\" class=\"dataframe\">\n",
       "  <thead>\n",
       "    <tr style=\"text-align: right;\">\n",
       "      <th></th>\n",
       "      <th>Open</th>\n",
       "      <th>High</th>\n",
       "      <th>Low</th>\n",
       "      <th>Close</th>\n",
       "      <th>Adj Close</th>\n",
       "      <th>Volume</th>\n",
       "    </tr>\n",
       "    <tr>\n",
       "      <th>Date</th>\n",
       "      <th></th>\n",
       "      <th></th>\n",
       "      <th></th>\n",
       "      <th></th>\n",
       "      <th></th>\n",
       "      <th></th>\n",
       "    </tr>\n",
       "  </thead>\n",
       "  <tbody>\n",
       "    <tr>\n",
       "      <th>2021-04-29</th>\n",
       "      <td>330.119995</td>\n",
       "      <td>331.809998</td>\n",
       "      <td>321.609985</td>\n",
       "      <td>329.51001</td>\n",
       "      <td>329.51001</td>\n",
       "      <td>56526800</td>\n",
       "    </tr>\n",
       "  </tbody>\n",
       "</table>\n",
       "</div>"
      ],
      "text/plain": [
       "                  Open        High         Low      Close  Adj Close    Volume\n",
       "Date                                                                          \n",
       "2021-04-29  330.119995  331.809998  321.609985  329.51001  329.51001  56526800"
      ]
     },
     "execution_count": 96,
     "metadata": {},
     "output_type": "execute_result"
    }
   ],
   "source": [
    "fb[fb[\"Close\"]==329.510009765625]"
   ]
  },
  {
   "cell_type": "code",
   "execution_count": 97,
   "metadata": {},
   "outputs": [],
   "source": [
    "# Facebook, Amazon, Apple, Netflix, Google\n",
    "tickers = [\"FB\", \"AMZN\", \"AAPL\", \"NFLX\", \"GOOG\"]"
   ]
  },
  {
   "cell_type": "code",
   "execution_count": 98,
   "metadata": {},
   "outputs": [
    {
     "name": "stdout",
     "output_type": "stream",
     "text": [
      "[*********************100%***********************]  5 of 5 completed\n"
     ]
    }
   ],
   "source": [
    "portfolio = yf.download(tickers, start, now)"
   ]
  },
  {
   "cell_type": "code",
   "execution_count": 99,
   "metadata": {},
   "outputs": [
    {
     "data": {
      "text/plain": [
       "AAPL     143.160004\n",
       "AMZN    3531.449951\n",
       "FB       355.640015\n",
       "GOOG    2571.439941\n",
       "NFLX     586.340027\n",
       "dtype: float64"
      ]
     },
     "execution_count": 99,
     "metadata": {},
     "output_type": "execute_result"
    }
   ],
   "source": [
    "portfolio[\"Close\"].max()"
   ]
  },
  {
   "cell_type": "code",
   "execution_count": 100,
   "metadata": {},
   "outputs": [
    {
     "data": {
      "text/plain": [
       "AAPL   2021-01-26\n",
       "AMZN   2020-09-02\n",
       "FB     2021-06-28\n",
       "GOOG   2021-07-02\n",
       "NFLX   2021-01-20\n",
       "dtype: datetime64[ns]"
      ]
     },
     "execution_count": 100,
     "metadata": {},
     "output_type": "execute_result"
    }
   ],
   "source": [
    "portfolio[\"Close\"].idxmax()"
   ]
  },
  {
   "cell_type": "code",
   "execution_count": 101,
   "metadata": {},
   "outputs": [
    {
     "data": {
      "text/html": [
       "<div>\n",
       "<style scoped>\n",
       "    .dataframe tbody tr th:only-of-type {\n",
       "        vertical-align: middle;\n",
       "    }\n",
       "\n",
       "    .dataframe tbody tr th {\n",
       "        vertical-align: top;\n",
       "    }\n",
       "\n",
       "    .dataframe thead th {\n",
       "        text-align: right;\n",
       "    }\n",
       "</style>\n",
       "<table border=\"1\" class=\"dataframe\">\n",
       "  <thead>\n",
       "    <tr style=\"text-align: right;\">\n",
       "      <th></th>\n",
       "      <th>AAPL</th>\n",
       "      <th>AMZN</th>\n",
       "      <th>FB</th>\n",
       "      <th>GOOG</th>\n",
       "      <th>NFLX</th>\n",
       "    </tr>\n",
       "    <tr>\n",
       "      <th>Date</th>\n",
       "      <th></th>\n",
       "      <th></th>\n",
       "      <th></th>\n",
       "      <th></th>\n",
       "      <th></th>\n",
       "    </tr>\n",
       "  </thead>\n",
       "  <tbody>\n",
       "    <tr>\n",
       "      <th>2020-07-02</th>\n",
       "      <td>91.027496</td>\n",
       "      <td>2890.300049</td>\n",
       "      <td>233.419998</td>\n",
       "      <td>1464.699951</td>\n",
       "      <td>476.890015</td>\n",
       "    </tr>\n",
       "    <tr>\n",
       "      <th>2020-07-06</th>\n",
       "      <td>93.462502</td>\n",
       "      <td>3057.040039</td>\n",
       "      <td>240.279999</td>\n",
       "      <td>1495.699951</td>\n",
       "      <td>493.809998</td>\n",
       "    </tr>\n",
       "    <tr>\n",
       "      <th>2020-07-07</th>\n",
       "      <td>93.172501</td>\n",
       "      <td>3000.120117</td>\n",
       "      <td>240.860001</td>\n",
       "      <td>1485.180054</td>\n",
       "      <td>493.160004</td>\n",
       "    </tr>\n",
       "    <tr>\n",
       "      <th>2020-07-08</th>\n",
       "      <td>95.342499</td>\n",
       "      <td>3081.110107</td>\n",
       "      <td>243.580002</td>\n",
       "      <td>1496.000000</td>\n",
       "      <td>502.779999</td>\n",
       "    </tr>\n",
       "    <tr>\n",
       "      <th>2020-07-09</th>\n",
       "      <td>95.752502</td>\n",
       "      <td>3182.629883</td>\n",
       "      <td>244.500000</td>\n",
       "      <td>1510.989990</td>\n",
       "      <td>507.760010</td>\n",
       "    </tr>\n",
       "    <tr>\n",
       "      <th>...</th>\n",
       "      <td>...</td>\n",
       "      <td>...</td>\n",
       "      <td>...</td>\n",
       "      <td>...</td>\n",
       "      <td>...</td>\n",
       "    </tr>\n",
       "    <tr>\n",
       "      <th>2021-06-28</th>\n",
       "      <td>134.779999</td>\n",
       "      <td>3443.889893</td>\n",
       "      <td>355.640015</td>\n",
       "      <td>2536.389893</td>\n",
       "      <td>533.030029</td>\n",
       "    </tr>\n",
       "    <tr>\n",
       "      <th>2021-06-29</th>\n",
       "      <td>136.330002</td>\n",
       "      <td>3448.139893</td>\n",
       "      <td>351.890015</td>\n",
       "      <td>2520.370117</td>\n",
       "      <td>533.500000</td>\n",
       "    </tr>\n",
       "    <tr>\n",
       "      <th>2021-06-30</th>\n",
       "      <td>136.960007</td>\n",
       "      <td>3440.159912</td>\n",
       "      <td>347.709991</td>\n",
       "      <td>2506.320068</td>\n",
       "      <td>528.210022</td>\n",
       "    </tr>\n",
       "    <tr>\n",
       "      <th>2021-07-01</th>\n",
       "      <td>137.270004</td>\n",
       "      <td>3432.969971</td>\n",
       "      <td>354.390015</td>\n",
       "      <td>2527.370117</td>\n",
       "      <td>533.539978</td>\n",
       "    </tr>\n",
       "    <tr>\n",
       "      <th>2021-07-02</th>\n",
       "      <td>139.119995</td>\n",
       "      <td>3458.610107</td>\n",
       "      <td>353.654999</td>\n",
       "      <td>2571.439941</td>\n",
       "      <td>532.190002</td>\n",
       "    </tr>\n",
       "  </tbody>\n",
       "</table>\n",
       "<p>253 rows × 5 columns</p>\n",
       "</div>"
      ],
      "text/plain": [
       "                  AAPL         AMZN          FB         GOOG        NFLX\n",
       "Date                                                                    \n",
       "2020-07-02   91.027496  2890.300049  233.419998  1464.699951  476.890015\n",
       "2020-07-06   93.462502  3057.040039  240.279999  1495.699951  493.809998\n",
       "2020-07-07   93.172501  3000.120117  240.860001  1485.180054  493.160004\n",
       "2020-07-08   95.342499  3081.110107  243.580002  1496.000000  502.779999\n",
       "2020-07-09   95.752502  3182.629883  244.500000  1510.989990  507.760010\n",
       "...                ...          ...         ...          ...         ...\n",
       "2021-06-28  134.779999  3443.889893  355.640015  2536.389893  533.030029\n",
       "2021-06-29  136.330002  3448.139893  351.890015  2520.370117  533.500000\n",
       "2021-06-30  136.960007  3440.159912  347.709991  2506.320068  528.210022\n",
       "2021-07-01  137.270004  3432.969971  354.390015  2527.370117  533.539978\n",
       "2021-07-02  139.119995  3458.610107  353.654999  2571.439941  532.190002\n",
       "\n",
       "[253 rows x 5 columns]"
      ]
     },
     "execution_count": 101,
     "metadata": {},
     "output_type": "execute_result"
    }
   ],
   "source": [
    "portfolio[\"Close\"]"
   ]
  },
  {
   "cell_type": "code",
   "execution_count": 102,
   "metadata": {},
   "outputs": [
    {
     "data": {
      "text/plain": [
       "<matplotlib.legend.Legend at 0x7f9f1c939310>"
      ]
     },
     "execution_count": 102,
     "metadata": {},
     "output_type": "execute_result"
    },
    {
     "data": {
      "image/png": "[encoded data removed]",
      "text/plain": [
       "<Figure size 1152x576 with 1 Axes>"
      ]
     },
     "metadata": {
      "needs_background": "light"
     },
     "output_type": "display_data"
    }
   ],
   "source": [
    "close=portfolio['Close']\n",
    "plt.figure(figsize=(16,8)) #height,width\n",
    "close[\"FB\"].plot()\n",
    "close['AMZN'].plot()\n",
    "close['AAPL'].plot()\n",
    "close['AAPL'].plot()\n",
    "close['NFLX'].plot()\n",
    "close['GOOG'].plot()\n",
    "\n",
    "plt.xlabel(\"Date\")\n",
    "plt.ylabel(\"USD\")\n",
    "plt.title(\"Stock Price\")\n",
    "plt.legend(loc='upper left')"
   ]
  },
  {
   "cell_type": "code",
   "execution_count": 103,
   "metadata": {},
   "outputs": [
    {
     "data": {
      "text/html": [
       "<div>\n",
       "<style scoped>\n",
       "    .dataframe tbody tr th:only-of-type {\n",
       "        vertical-align: middle;\n",
       "    }\n",
       "\n",
       "    .dataframe tbody tr th {\n",
       "        vertical-align: top;\n",
       "    }\n",
       "\n",
       "    .dataframe thead th {\n",
       "        text-align: right;\n",
       "    }\n",
       "</style>\n",
       "<table border=\"1\" class=\"dataframe\">\n",
       "  <thead>\n",
       "    <tr style=\"text-align: right;\">\n",
       "      <th></th>\n",
       "      <th>AAPL</th>\n",
       "      <th>AMZN</th>\n",
       "      <th>FB</th>\n",
       "      <th>GOOG</th>\n",
       "      <th>NFLX</th>\n",
       "    </tr>\n",
       "    <tr>\n",
       "      <th>Date</th>\n",
       "      <th></th>\n",
       "      <th></th>\n",
       "      <th></th>\n",
       "      <th></th>\n",
       "      <th></th>\n",
       "    </tr>\n",
       "  </thead>\n",
       "  <tbody>\n",
       "    <tr>\n",
       "      <th>2020-07-02</th>\n",
       "      <td>NaN</td>\n",
       "      <td>NaN</td>\n",
       "      <td>NaN</td>\n",
       "      <td>NaN</td>\n",
       "      <td>NaN</td>\n",
       "    </tr>\n",
       "    <tr>\n",
       "      <th>2020-07-06</th>\n",
       "      <td>0.026750</td>\n",
       "      <td>0.057690</td>\n",
       "      <td>0.029389</td>\n",
       "      <td>0.021165</td>\n",
       "      <td>0.035480</td>\n",
       "    </tr>\n",
       "    <tr>\n",
       "      <th>2020-07-07</th>\n",
       "      <td>-0.003103</td>\n",
       "      <td>-0.018619</td>\n",
       "      <td>0.002414</td>\n",
       "      <td>-0.007033</td>\n",
       "      <td>-0.001316</td>\n",
       "    </tr>\n",
       "    <tr>\n",
       "      <th>2020-07-08</th>\n",
       "      <td>0.023290</td>\n",
       "      <td>0.026996</td>\n",
       "      <td>0.011293</td>\n",
       "      <td>0.007285</td>\n",
       "      <td>0.019507</td>\n",
       "    </tr>\n",
       "    <tr>\n",
       "      <th>2020-07-09</th>\n",
       "      <td>0.004300</td>\n",
       "      <td>0.032949</td>\n",
       "      <td>0.003777</td>\n",
       "      <td>0.010020</td>\n",
       "      <td>0.009905</td>\n",
       "    </tr>\n",
       "    <tr>\n",
       "      <th>...</th>\n",
       "      <td>...</td>\n",
       "      <td>...</td>\n",
       "      <td>...</td>\n",
       "      <td>...</td>\n",
       "      <td>...</td>\n",
       "    </tr>\n",
       "    <tr>\n",
       "      <th>2021-06-28</th>\n",
       "      <td>0.012546</td>\n",
       "      <td>0.012474</td>\n",
       "      <td>0.041802</td>\n",
       "      <td>-0.001382</td>\n",
       "      <td>0.011308</td>\n",
       "    </tr>\n",
       "    <tr>\n",
       "      <th>2021-06-29</th>\n",
       "      <td>0.011500</td>\n",
       "      <td>0.001234</td>\n",
       "      <td>-0.010544</td>\n",
       "      <td>-0.006316</td>\n",
       "      <td>0.000882</td>\n",
       "    </tr>\n",
       "    <tr>\n",
       "      <th>2021-06-30</th>\n",
       "      <td>0.004621</td>\n",
       "      <td>-0.002314</td>\n",
       "      <td>-0.011879</td>\n",
       "      <td>-0.005575</td>\n",
       "      <td>-0.009916</td>\n",
       "    </tr>\n",
       "    <tr>\n",
       "      <th>2021-07-01</th>\n",
       "      <td>0.002263</td>\n",
       "      <td>-0.002090</td>\n",
       "      <td>0.019211</td>\n",
       "      <td>0.008399</td>\n",
       "      <td>0.010091</td>\n",
       "    </tr>\n",
       "    <tr>\n",
       "      <th>2021-07-02</th>\n",
       "      <td>0.013477</td>\n",
       "      <td>0.007469</td>\n",
       "      <td>-0.002074</td>\n",
       "      <td>0.017437</td>\n",
       "      <td>-0.002530</td>\n",
       "    </tr>\n",
       "  </tbody>\n",
       "</table>\n",
       "<p>253 rows × 5 columns</p>\n",
       "</div>"
      ],
      "text/plain": [
       "                AAPL      AMZN        FB      GOOG      NFLX\n",
       "Date                                                        \n",
       "2020-07-02       NaN       NaN       NaN       NaN       NaN\n",
       "2020-07-06  0.026750  0.057690  0.029389  0.021165  0.035480\n",
       "2020-07-07 -0.003103 -0.018619  0.002414 -0.007033 -0.001316\n",
       "2020-07-08  0.023290  0.026996  0.011293  0.007285  0.019507\n",
       "2020-07-09  0.004300  0.032949  0.003777  0.010020  0.009905\n",
       "...              ...       ...       ...       ...       ...\n",
       "2021-06-28  0.012546  0.012474  0.041802 -0.001382  0.011308\n",
       "2021-06-29  0.011500  0.001234 -0.010544 -0.006316  0.000882\n",
       "2021-06-30  0.004621 -0.002314 -0.011879 -0.005575 -0.009916\n",
       "2021-07-01  0.002263 -0.002090  0.019211  0.008399  0.010091\n",
       "2021-07-02  0.013477  0.007469 -0.002074  0.017437 -0.002530\n",
       "\n",
       "[253 rows x 5 columns]"
      ]
     },
     "execution_count": 103,
     "metadata": {},
     "output_type": "execute_result"
    }
   ],
   "source": [
    "portfolio[\"Close\"].pct_change()"
   ]
  },
  {
   "cell_type": "code",
   "execution_count": 104,
   "metadata": {},
   "outputs": [
    {
     "data": {
      "text/html": [
       "<div>\n",
       "<style scoped>\n",
       "    .dataframe tbody tr th:only-of-type {\n",
       "        vertical-align: middle;\n",
       "    }\n",
       "\n",
       "    .dataframe tbody tr th {\n",
       "        vertical-align: top;\n",
       "    }\n",
       "\n",
       "    .dataframe thead th {\n",
       "        text-align: right;\n",
       "    }\n",
       "</style>\n",
       "<table border=\"1\" class=\"dataframe\">\n",
       "  <thead>\n",
       "    <tr style=\"text-align: right;\">\n",
       "      <th></th>\n",
       "      <th>AAPL</th>\n",
       "      <th>AMZN</th>\n",
       "      <th>FB</th>\n",
       "      <th>GOOG</th>\n",
       "      <th>NFLX</th>\n",
       "    </tr>\n",
       "  </thead>\n",
       "  <tbody>\n",
       "    <tr>\n",
       "      <th>AAPL</th>\n",
       "      <td>1.000000</td>\n",
       "      <td>0.690818</td>\n",
       "      <td>0.631716</td>\n",
       "      <td>0.491419</td>\n",
       "      <td>0.468036</td>\n",
       "    </tr>\n",
       "    <tr>\n",
       "      <th>AMZN</th>\n",
       "      <td>0.690818</td>\n",
       "      <td>1.000000</td>\n",
       "      <td>0.677640</td>\n",
       "      <td>0.620603</td>\n",
       "      <td>0.596551</td>\n",
       "    </tr>\n",
       "    <tr>\n",
       "      <th>FB</th>\n",
       "      <td>0.631716</td>\n",
       "      <td>0.677640</td>\n",
       "      <td>1.000000</td>\n",
       "      <td>0.627324</td>\n",
       "      <td>0.505481</td>\n",
       "    </tr>\n",
       "    <tr>\n",
       "      <th>GOOG</th>\n",
       "      <td>0.491419</td>\n",
       "      <td>0.620603</td>\n",
       "      <td>0.627324</td>\n",
       "      <td>1.000000</td>\n",
       "      <td>0.443323</td>\n",
       "    </tr>\n",
       "    <tr>\n",
       "      <th>NFLX</th>\n",
       "      <td>0.468036</td>\n",
       "      <td>0.596551</td>\n",
       "      <td>0.505481</td>\n",
       "      <td>0.443323</td>\n",
       "      <td>1.000000</td>\n",
       "    </tr>\n",
       "  </tbody>\n",
       "</table>\n",
       "</div>"
      ],
      "text/plain": [
       "          AAPL      AMZN        FB      GOOG      NFLX\n",
       "AAPL  1.000000  0.690818  0.631716  0.491419  0.468036\n",
       "AMZN  0.690818  1.000000  0.677640  0.620603  0.596551\n",
       "FB    0.631716  0.677640  1.000000  0.627324  0.505481\n",
       "GOOG  0.491419  0.620603  0.627324  1.000000  0.443323\n",
       "NFLX  0.468036  0.596551  0.505481  0.443323  1.000000"
      ]
     },
     "execution_count": 104,
     "metadata": {},
     "output_type": "execute_result"
    }
   ],
   "source": [
    "portfolio[\"Close\"].pct_change().corr()"
   ]
  },
  {
   "cell_type": "code",
   "execution_count": 105,
   "metadata": {},
   "outputs": [
    {
     "data": {
      "text/html": [
       "<div>\n",
       "<style scoped>\n",
       "    .dataframe tbody tr th:only-of-type {\n",
       "        vertical-align: middle;\n",
       "    }\n",
       "\n",
       "    .dataframe tbody tr th {\n",
       "        vertical-align: top;\n",
       "    }\n",
       "\n",
       "    .dataframe thead th {\n",
       "        text-align: right;\n",
       "    }\n",
       "</style>\n",
       "<table border=\"1\" class=\"dataframe\">\n",
       "  <thead>\n",
       "    <tr style=\"text-align: right;\">\n",
       "      <th></th>\n",
       "      <th>AAPL</th>\n",
       "      <th>AMZN</th>\n",
       "      <th>FB</th>\n",
       "      <th>GOOG</th>\n",
       "      <th>NFLX</th>\n",
       "    </tr>\n",
       "    <tr>\n",
       "      <th>Date</th>\n",
       "      <th></th>\n",
       "      <th></th>\n",
       "      <th></th>\n",
       "      <th></th>\n",
       "      <th></th>\n",
       "    </tr>\n",
       "  </thead>\n",
       "  <tbody>\n",
       "    <tr>\n",
       "      <th>2020-07-02</th>\n",
       "      <td>NaN</td>\n",
       "      <td>NaN</td>\n",
       "      <td>NaN</td>\n",
       "      <td>NaN</td>\n",
       "      <td>NaN</td>\n",
       "    </tr>\n",
       "    <tr>\n",
       "      <th>2020-07-06</th>\n",
       "      <td>0.026750</td>\n",
       "      <td>0.057690</td>\n",
       "      <td>0.029389</td>\n",
       "      <td>0.021165</td>\n",
       "      <td>0.035480</td>\n",
       "    </tr>\n",
       "    <tr>\n",
       "      <th>2020-07-07</th>\n",
       "      <td>-0.003103</td>\n",
       "      <td>-0.018619</td>\n",
       "      <td>0.002414</td>\n",
       "      <td>-0.007033</td>\n",
       "      <td>-0.001316</td>\n",
       "    </tr>\n",
       "    <tr>\n",
       "      <th>2020-07-08</th>\n",
       "      <td>0.023290</td>\n",
       "      <td>0.026996</td>\n",
       "      <td>0.011293</td>\n",
       "      <td>0.007285</td>\n",
       "      <td>0.019507</td>\n",
       "    </tr>\n",
       "    <tr>\n",
       "      <th>2020-07-09</th>\n",
       "      <td>0.004300</td>\n",
       "      <td>0.032949</td>\n",
       "      <td>0.003777</td>\n",
       "      <td>0.010020</td>\n",
       "      <td>0.009905</td>\n",
       "    </tr>\n",
       "    <tr>\n",
       "      <th>...</th>\n",
       "      <td>...</td>\n",
       "      <td>...</td>\n",
       "      <td>...</td>\n",
       "      <td>...</td>\n",
       "      <td>...</td>\n",
       "    </tr>\n",
       "    <tr>\n",
       "      <th>2021-06-28</th>\n",
       "      <td>0.012546</td>\n",
       "      <td>0.012474</td>\n",
       "      <td>0.041802</td>\n",
       "      <td>-0.001382</td>\n",
       "      <td>0.011308</td>\n",
       "    </tr>\n",
       "    <tr>\n",
       "      <th>2021-06-29</th>\n",
       "      <td>0.011500</td>\n",
       "      <td>0.001234</td>\n",
       "      <td>-0.010544</td>\n",
       "      <td>-0.006316</td>\n",
       "      <td>0.000882</td>\n",
       "    </tr>\n",
       "    <tr>\n",
       "      <th>2021-06-30</th>\n",
       "      <td>0.004621</td>\n",
       "      <td>-0.002314</td>\n",
       "      <td>-0.011879</td>\n",
       "      <td>-0.005575</td>\n",
       "      <td>-0.009916</td>\n",
       "    </tr>\n",
       "    <tr>\n",
       "      <th>2021-07-01</th>\n",
       "      <td>0.002263</td>\n",
       "      <td>-0.002090</td>\n",
       "      <td>0.019211</td>\n",
       "      <td>0.008399</td>\n",
       "      <td>0.010091</td>\n",
       "    </tr>\n",
       "    <tr>\n",
       "      <th>2021-07-02</th>\n",
       "      <td>0.013477</td>\n",
       "      <td>0.007469</td>\n",
       "      <td>-0.002074</td>\n",
       "      <td>0.017437</td>\n",
       "      <td>-0.002530</td>\n",
       "    </tr>\n",
       "  </tbody>\n",
       "</table>\n",
       "<p>253 rows × 5 columns</p>\n",
       "</div>"
      ],
      "text/plain": [
       "                AAPL      AMZN        FB      GOOG      NFLX\n",
       "Date                                                        \n",
       "2020-07-02       NaN       NaN       NaN       NaN       NaN\n",
       "2020-07-06  0.026750  0.057690  0.029389  0.021165  0.035480\n",
       "2020-07-07 -0.003103 -0.018619  0.002414 -0.007033 -0.001316\n",
       "2020-07-08  0.023290  0.026996  0.011293  0.007285  0.019507\n",
       "2020-07-09  0.004300  0.032949  0.003777  0.010020  0.009905\n",
       "...              ...       ...       ...       ...       ...\n",
       "2021-06-28  0.012546  0.012474  0.041802 -0.001382  0.011308\n",
       "2021-06-29  0.011500  0.001234 -0.010544 -0.006316  0.000882\n",
       "2021-06-30  0.004621 -0.002314 -0.011879 -0.005575 -0.009916\n",
       "2021-07-01  0.002263 -0.002090  0.019211  0.008399  0.010091\n",
       "2021-07-02  0.013477  0.007469 -0.002074  0.017437 -0.002530\n",
       "\n",
       "[253 rows x 5 columns]"
      ]
     },
     "execution_count": 105,
     "metadata": {},
     "output_type": "execute_result"
    }
   ],
   "source": [
    "portfolio[\"Close\"].pct_change()"
   ]
  },
  {
   "cell_type": "code",
   "execution_count": 106,
   "metadata": {},
   "outputs": [
    {
     "data": {
      "text/html": [
       "<div>\n",
       "<style scoped>\n",
       "    .dataframe tbody tr th:only-of-type {\n",
       "        vertical-align: middle;\n",
       "    }\n",
       "\n",
       "    .dataframe tbody tr th {\n",
       "        vertical-align: top;\n",
       "    }\n",
       "\n",
       "    .dataframe thead th {\n",
       "        text-align: right;\n",
       "    }\n",
       "</style>\n",
       "<table border=\"1\" class=\"dataframe\">\n",
       "  <thead>\n",
       "    <tr style=\"text-align: right;\">\n",
       "      <th></th>\n",
       "      <th>AAPL</th>\n",
       "      <th>AMZN</th>\n",
       "      <th>FB</th>\n",
       "      <th>GOOG</th>\n",
       "      <th>NFLX</th>\n",
       "    </tr>\n",
       "  </thead>\n",
       "  <tbody>\n",
       "    <tr>\n",
       "      <th>AAPL</th>\n",
       "      <td>1.000000</td>\n",
       "      <td>0.690818</td>\n",
       "      <td>0.631716</td>\n",
       "      <td>0.491419</td>\n",
       "      <td>0.468036</td>\n",
       "    </tr>\n",
       "    <tr>\n",
       "      <th>AMZN</th>\n",
       "      <td>0.690818</td>\n",
       "      <td>1.000000</td>\n",
       "      <td>0.677640</td>\n",
       "      <td>0.620603</td>\n",
       "      <td>0.596551</td>\n",
       "    </tr>\n",
       "    <tr>\n",
       "      <th>FB</th>\n",
       "      <td>0.631716</td>\n",
       "      <td>0.677640</td>\n",
       "      <td>1.000000</td>\n",
       "      <td>0.627324</td>\n",
       "      <td>0.505481</td>\n",
       "    </tr>\n",
       "    <tr>\n",
       "      <th>GOOG</th>\n",
       "      <td>0.491419</td>\n",
       "      <td>0.620603</td>\n",
       "      <td>0.627324</td>\n",
       "      <td>1.000000</td>\n",
       "      <td>0.443323</td>\n",
       "    </tr>\n",
       "    <tr>\n",
       "      <th>NFLX</th>\n",
       "      <td>0.468036</td>\n",
       "      <td>0.596551</td>\n",
       "      <td>0.505481</td>\n",
       "      <td>0.443323</td>\n",
       "      <td>1.000000</td>\n",
       "    </tr>\n",
       "  </tbody>\n",
       "</table>\n",
       "</div>"
      ],
      "text/plain": [
       "          AAPL      AMZN        FB      GOOG      NFLX\n",
       "AAPL  1.000000  0.690818  0.631716  0.491419  0.468036\n",
       "AMZN  0.690818  1.000000  0.677640  0.620603  0.596551\n",
       "FB    0.631716  0.677640  1.000000  0.627324  0.505481\n",
       "GOOG  0.491419  0.620603  0.627324  1.000000  0.443323\n",
       "NFLX  0.468036  0.596551  0.505481  0.443323  1.000000"
      ]
     },
     "execution_count": 106,
     "metadata": {},
     "output_type": "execute_result"
    }
   ],
   "source": [
    "portfolio[\"Close\"].pct_change().corr()"
   ]
  },
  {
   "cell_type": "code",
   "execution_count": 107,
   "metadata": {},
   "outputs": [
    {
     "data": {
      "image/png": "[encoded data removed]",
      "text/plain": [
       "<Figure size 432x288 with 2 Axes>"
      ]
     },
     "metadata": {
      "needs_background": "light"
     },
     "output_type": "display_data"
    }
   ],
   "source": [
    "import matplotlib.pyplot as plt\n",
    "import seaborn as sn\n",
    "\n",
    "corrMatrix =portfolio[\"Close\"].pct_change().corr()\n",
    "sn.heatmap(corrMatrix, annot=True)\n",
    "plt.show()"
   ]
  }
 ],
 "metadata": {
  "kernelspec": {
   "display_name": "Python 3",
   "language": "python",
   "name": "python3"
  },
  "language_info": {
   "codemirror_mode": {
    "name": "ipython",
    "version": 3
   },
   "file_extension": ".py",
   "mimetype": "text/x-python",
   "name": "python",
   "nbconvert_exporter": "python",
   "pygments_lexer": "ipython3",
   "version": "3.8.8"
  }
 },
 "nbformat": 4,
 "nbformat_minor": 4
}
